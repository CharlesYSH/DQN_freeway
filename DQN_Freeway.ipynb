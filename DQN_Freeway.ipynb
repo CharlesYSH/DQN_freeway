{
  "nbformat": 4,
  "nbformat_minor": 0,
  "metadata": {
    "colab": {
      "name": "DQN_Freeway.ipynb",
      "provenance": [],
      "collapsed_sections": [],
      "authorship_tag": "ABX9TyPEg+eFYYMCKAqAy3iiBDFU",
      "include_colab_link": true
    },
    "kernelspec": {
      "name": "python3",
      "display_name": "Python 3"
    },
    "accelerator": "GPU"
  },
  "cells": [
    {
      "cell_type": "markdown",
      "metadata": {
        "id": "view-in-github",
        "colab_type": "text"
      },
      "source": [
        "<a href=\"https://colab.research.google.com/github/CharlesYSH/DQN_freeway/blob/master/DQN_Freeway.ipynb\" target=\"_parent\"><img src=\"https://colab.research.google.com/assets/colab-badge.svg\" alt=\"Open In Colab\"/></a>"
      ]
    },
    {
      "cell_type": "markdown",
      "metadata": {
        "id": "PWqOA_15BmZZ",
        "colab_type": "text"
      },
      "source": [
        "**Deep Q larning (DQN)**"
      ]
    },
    {
      "cell_type": "code",
      "metadata": {
        "id": "s5-z1HImm5dC",
        "colab_type": "code",
        "colab": {}
      },
      "source": [
        "# check device driver\n",
        "!nvidia-smi"
      ],
      "execution_count": 0,
      "outputs": []
    },
    {
      "cell_type": "code",
      "metadata": {
        "id": "LWpcV3fDnCJP",
        "colab_type": "code",
        "colab": {}
      },
      "source": [
        "import os\n",
        "import gym\n",
        "import math\n",
        "import random\n",
        "import argparse\n",
        "import numpy as np\n",
        "from collections import namedtuple\n",
        "\n",
        "import cv2\n",
        "from PIL import Image\n",
        "import matplotlib\n",
        "import matplotlib.pyplot as plt\n",
        "\n",
        "import torch\n",
        "import torch.nn as nn\n",
        "import torch.optim as optim\n",
        "import torch.nn.functional as F\n",
        "import torchvision.transforms as T\n",
        "device = torch.device(\"cuda\" if torch.cuda.is_available() else \"cpu\")\n",
        "print(\"Use device: %s\"%device)"
      ],
      "execution_count": 0,
      "outputs": []
    },
    {
      "cell_type": "code",
      "metadata": {
        "id": "lSW_GptLnGrJ",
        "colab_type": "code",
        "colab": {}
      },
      "source": [
        "parser = argparse.ArgumentParser()\n",
        "parser.add_argument(\"--train_ep\", default=800, type=int)\n",
        "parser.add_argument(\"--mem_capacity\", default=90000, type=int)\n",
        "parser.add_argument(\"--batch_size\", default=128, type=int)\n",
        "parser.add_argument(\"--lr\", default=0.00025, type=float)\n",
        "parser.add_argument(\"--gamma\", default=0.999, type=float)\n",
        "parser.add_argument(\"--epsilon_start\", default=1.0, type=float)\n",
        "parser.add_argument(\"--epsilon_final\", default=0.1, type=float)\n",
        "parser.add_argument(\"--epsilon_decay\", default=1000000, type=float)\n",
        "parser.add_argument(\"--target_step\", default=10000, type=int)\n",
        "parser.add_argument(\"--eval_per_ep\", default=10, type=int)\n",
        "parser.add_argument(\"--save_per_ep\", default=50, type=int)\n",
        "parser.add_argument(\"--save_dir\", default=\"./model\")\n",
        "parser.add_argument(\"--log_file\", default=\"./log.txt\")\n",
        "parser.add_argument(\"--load_model\", default=None)"
      ],
      "execution_count": 0,
      "outputs": []
    },
    {
      "cell_type": "markdown",
      "metadata": {
        "id": "KmKERi1cTJFi",
        "colab_type": "text"
      },
      "source": [
        "Memory buffer for experience replay"
      ]
    },
    {
      "cell_type": "code",
      "metadata": {
        "id": "V4c81A6jnNgf",
        "colab_type": "code",
        "colab": {}
      },
      "source": [
        "Transition = namedtuple('Transition', ('state', 'action', 'next_state', 'reward', 'done'))\n",
        "\n",
        "class ReplayMemory(object):\n",
        "    def __init__(self, capacity):\n",
        "        self.capacity = capacity\n",
        "        self.memory = []\n",
        "        self.position = 0\n",
        "        \n",
        "    def push(self, *args):\n",
        "        if len(self.memory) < self.capacity:\n",
        "            self.memory.append(None)\n",
        "        self.memory[self.position] = Transition(*args)\n",
        "        self.position = (self.position + 1) % self.capacity\n",
        "        \n",
        "\n",
        "    def sample(self, batch_size):\n",
        "        return random.sample(self.memory, batch_size)\n",
        "    \n",
        "    def __len__(self):\n",
        "        return len(self.memory)"
      ],
      "execution_count": 0,
      "outputs": []
    },
    {
      "cell_type": "markdown",
      "metadata": {
        "id": "CCZm10XiT-Zi",
        "colab_type": "text"
      },
      "source": [
        "Convolutional Neural Network"
      ]
    },
    {
      "cell_type": "code",
      "metadata": {
        "id": "BJLhS-9UnRVM",
        "colab_type": "code",
        "colab": {}
      },
      "source": [
        "class CNN(nn.Module):\n",
        "    def __init__(self, h, w, outputs):\n",
        "        super(CNN, self).__init__()\n",
        "        self.conv1 = nn.Conv2d(4, 32, kernel_size=8, stride=4)\n",
        "        self.bn1 = nn.BatchNorm2d(32)\n",
        "        self.conv2 = nn.Conv2d(32, 64, kernel_size=4, stride=2)\n",
        "        self.bn2 = nn.BatchNorm2d(64)\n",
        "        self.conv3 = nn.Conv2d(64, 64, kernel_size=3, stride=1)\n",
        "        self.bn3 = nn.BatchNorm2d(64)\n",
        "        \n",
        "        def conv2d_size_out(size, kernel_size = 3, stride = 1):\n",
        "            return (size - (kernel_size - 1) - 1) // stride  + 1\n",
        "        convw = conv2d_size_out(conv2d_size_out(conv2d_size_out(w,8,4),4,2),3,1)\n",
        "        convh = conv2d_size_out(conv2d_size_out(conv2d_size_out(h,8,4),4,2),3,1)\n",
        "        linear_input_size = convw * convh * 64\n",
        "        \n",
        "        self.fc = nn.Linear(linear_input_size, 512)\n",
        "        self.head = nn.Linear(512, outputs)\n",
        "        \n",
        "    def forward(self, x):\n",
        "        x = F.leaky_relu(self.bn1(self.conv1(x)))\n",
        "        x = F.leaky_relu(self.bn2(self.conv2(x)))\n",
        "        x = F.leaky_relu(self.bn3(self.conv3(x)))\n",
        "        x = F.leaky_relu(self.fc(x.view(x.size(0), -1)))\n",
        "        return self.head(x)"
      ],
      "execution_count": 0,
      "outputs": []
    },
    {
      "cell_type": "markdown",
      "metadata": {
        "id": "ScQ1v79mUIFk",
        "colab_type": "text"
      },
      "source": [
        "DQN agent"
      ]
    },
    {
      "cell_type": "code",
      "metadata": {
        "id": "wNFrWHSBnTrn",
        "colab_type": "code",
        "colab": {}
      },
      "source": [
        "class DQN(object):\n",
        "    def __init__(self):\n",
        "        self.BATCH_SIZE = args.batch_size\n",
        "        self.GAMMA = args.gamma\n",
        "        self.EPS_START = args.epsilon_start\n",
        "        self.EPS_END = args.epsilon_final\n",
        "        self.EPS_DECAY = args.epsilon_decay\n",
        "        self.LEARN_RATE = args.lr\n",
        "\n",
        "        self.action_dim = 3\n",
        "        self.state_dim = (84,84)\n",
        "        self.epsilon = 0.0\n",
        "        self.update_count = 0\n",
        "        \n",
        "        self.policy_net = CNN(84, 84, self.action_dim).to(device)\n",
        "        self.target_net = CNN(84, 84, self.action_dim).to(device)\n",
        "        self.target_net.load_state_dict(self.policy_net.state_dict())\n",
        "        self.target_net.eval()\n",
        "        self.optimizer = optim.RMSprop(self.policy_net.parameters(), lr=self.LEARN_RATE)\n",
        "        \n",
        "        self.memory = ReplayMemory(args.mem_capacity)\n",
        "        self.interaction_steps = 0\n",
        "\n",
        "    def select_action(self, state):\n",
        "        self.interaction_steps += 1\n",
        "        self.epsilon = self.EPS_END + np.maximum( (self.EPS_START-self.EPS_END) * (1 - self.interaction_steps/self.EPS_DECAY), 0)\n",
        "        if random.random() < self.epsilon:\n",
        "            return torch.tensor([[random.randrange(self.action_dim)]], device=device, dtype=torch.long)\n",
        "        else:\n",
        "            with torch.no_grad():\n",
        "                return self.policy_net(state).max(1)[1].view(1, 1)\n",
        "\n",
        "    def evaluate_action(self, state, rand=0.1):\n",
        "        if random.random() < rand:\n",
        "            return torch.tensor([[random.randrange(self.action_dim)]], device=device, dtype=torch.long)\n",
        "        with torch.no_grad():\n",
        "            return self.target_net(state).max(1)[1].view(1, 1)\n",
        "\n",
        "\n",
        "    def store(self, state, action, next_state, reward, done):\n",
        "        self.memory.push(state, action, next_state, reward, done)\n",
        "\n",
        "    def update(self):\n",
        "        if len(self.memory) < self.BATCH_SIZE:\n",
        "            print(\"[Warning] Memory data less than batch sizes!\")\n",
        "            return\n",
        "        \n",
        "        transitions = self.memory.sample(self.BATCH_SIZE)\n",
        "        batch = Transition(*zip(*transitions))\n",
        "        \n",
        "        final_mask = torch.cat(batch.done)\n",
        "        non_final_next_states = torch.cat([s for s in batch.next_state if s is not None])\n",
        "        state_batch = torch.cat(batch.state)\n",
        "        action_batch = torch.cat(batch.action)\n",
        "        reward_batch = torch.cat(batch.reward)\n",
        "        \n",
        "        state_action_values = self.policy_net(state_batch).gather(1, action_batch)\n",
        "        \n",
        "        next_state_values = torch.zeros(self.BATCH_SIZE,1, device=device)\n",
        "        next_state_values[final_mask.bitwise_not()] = self.target_net(non_final_next_states).max(1, True)[0].detach()\n",
        "\n",
        "        expected_state_action_values = (next_state_values * self.GAMMA) + reward_batch\n",
        "    \n",
        "        loss = F.smooth_l1_loss(state_action_values, expected_state_action_values)\n",
        "        \n",
        "        self.optimizer.zero_grad()\n",
        "        loss.backward()\n",
        "        for param in self.policy_net.parameters():\n",
        "            param.grad.data.clamp_(-1, 1)\n",
        "        self.optimizer.step()\n",
        "\n",
        "        self.update_count += 1\n",
        "        if self.update_count % args.target_step == 0:\n",
        "            self.update_target_net()\n",
        "\n",
        "        \n",
        "    def update_target_net(self):\n",
        "        with torch.no_grad():\n",
        "            self.target_net.load_state_dict(self.policy_net.state_dict())\n",
        "            # Partially update weight\n",
        "            #for q, q_targ in zip(self.policy_net.parameters(), self.target_net.parameters()):\n",
        "            #    q_targ.data.mul_(0.05)\n",
        "            #    q_targ.data.add_(0.95 * q.data)\n",
        "            #self.target_net.eval()\n",
        "\n",
        "    def save_model(self, path=\".\"):\n",
        "        torch.save(self.target_net.state_dict(), path+'/q_target_checkpoint_{}.pth'.format(self.interaction_steps))\n",
        "        torch.save(self.policy_net.state_dict(), path+'/q_policy_checkpoint_{}.pth'.format(self.interaction_steps))\n",
        "\n",
        "    def restore_model(self, path):\n",
        "        self.target_net.load_state_dict(torch.load(path, map_location=device))\n",
        "        self.policy_net.load_state_dict(torch.load(path, map_location=device))\n",
        "        self.target_net.eval()\n",
        "        print(\"[Info] Restore model from '%s' !\"%path)"
      ],
      "execution_count": 0,
      "outputs": []
    },
    {
      "cell_type": "markdown",
      "metadata": {
        "id": "AQqaZNE-TjLB",
        "colab_type": "text"
      },
      "source": [
        "Uniform random agent"
      ]
    },
    {
      "cell_type": "code",
      "metadata": {
        "id": "sm30gA-3n_di",
        "colab_type": "code",
        "colab": {}
      },
      "source": [
        "class RandomAgent(object):\n",
        "    def __init__(self):\n",
        "        self.action_dim = 3\n",
        "        self.interaction_steps = 0\n",
        "\n",
        "    def select_action(self, state):\n",
        "        self.interaction_steps += 1\n",
        "        return torch.tensor( [random.sample([0,1,2],1)], device=device, dtype=torch.long )\n",
        "\n",
        "    def evaluate_action(self, state):\n",
        "        return torch.tensor( [random.sample([0,1,2],1)], device=device, dtype=torch.long )\n"
      ],
      "execution_count": 0,
      "outputs": []
    },
    {
      "cell_type": "markdown",
      "metadata": {
        "id": "3RM1wRAXPq24",
        "colab_type": "text"
      },
      "source": [
        "Markov state for Gym environment <br>\n",
        "https://gym.openai.com/envs/Freeway-v0/\n",
        "\n",
        "\"Freeway-v0\", \"Freeway-v4\", <br>\n",
        "\"FreewayDeterministic-v0\", \"FreewayDeterministic-v4\", <br>\n",
        "\"FreewayNoFrameskip-v0\", \"FreewayNoFrameskip-v4\""
      ]
    },
    {
      "cell_type": "code",
      "metadata": {
        "id": "SEGfhUZaoE4t",
        "colab_type": "code",
        "colab": {}
      },
      "source": [
        "frame_proc = T.Compose([T.ToPILImage(),\n",
        "                        T.Grayscale(), \\\n",
        "                        T.Resize((84,84), interpolation=Image.BILINEAR), \\\n",
        "                        T.ToTensor()])\n",
        "\n",
        "class Atari(object):\n",
        "    def __init__(self, env_name=\"FreewayDeterministic-v4\", agent_history_length=4):\n",
        "        self.env = gym.make(env_name)\n",
        "        self.state = None\n",
        "        self.agent_history_length = agent_history_length\n",
        "\n",
        "    def reset(self):\n",
        "        observation = self.env.reset()\n",
        "        frame = self.image_proc(observation).to(device)\n",
        "        self.state = frame.repeat(1,self.agent_history_length,1,1)\n",
        "        return self.state\n",
        "\n",
        "    def image_proc(self, image):\n",
        "        return frame_proc(image)\n",
        "\n",
        "    def step(self, action):\n",
        "        observation, reward, done, info = self.env.step(action)\n",
        "        frame = self.image_proc(observation).to(device)\n",
        "        next_state = torch.cat( (self.state[:, 1:, :, :], frame.unsqueeze(0)), axis=1 )\n",
        "        self.state = next_state\n",
        "        return next_state, reward, done, info\n",
        "\n",
        "    def get_render(self):\n",
        "        observation = self.env.render(mode='rgb_array')\n",
        "        return observation\n",
        "\n",
        "    def render(self):\n",
        "        self.env.render()"
      ],
      "execution_count": 0,
      "outputs": []
    },
    {
      "cell_type": "code",
      "metadata": {
        "id": "W0spoQ5FoIc0",
        "colab_type": "code",
        "colab": {}
      },
      "source": [
        "def train():\n",
        "    num_episodes = args.train_ep\n",
        "    save_model_per_ep = args.save_per_ep\n",
        "    log_fd = open(args.log_file,'w')\n",
        "\n",
        "    agent = DQN()\n",
        "    env = Atari()\n",
        "\n",
        "    if args.load_model:\n",
        "      agent.restore_model(args.load_model)\n",
        "    if not os.path.exists(args.save_dir):\n",
        "        os.makedirs(args.save_dir)\n",
        "    \n",
        "    global_steps = 0\n",
        "    for i_episode in range(num_episodes):\n",
        "        episode_reward = 0\n",
        "        state = env.reset()\n",
        "\n",
        "        for _ in range(10000):\n",
        "            #env.render()\n",
        "            action = agent.select_action(state)\n",
        "            next_state, reward, done, _ = env.step(action.item())\n",
        "            \n",
        "            if done:\n",
        "                next_state = None\n",
        "\n",
        "            agent.memory.push(  state, \\\n",
        "                                action, \\\n",
        "                                next_state, \\\n",
        "                                torch.tensor([[reward]], device=device), \\\n",
        "                                torch.tensor([done], device=device, dtype=torch.bool))\n",
        "            state = next_state\n",
        "            episode_reward += reward\n",
        "            global_steps += 1 \n",
        "\n",
        "            if global_steps > 50000:\n",
        "                agent.update()\n",
        "\n",
        "            if done:\n",
        "                train_info_str = \"Episode: %6d, interaction_steps: %6d, reward: %2d, epsilon: %f\"%(i_episode, agent.interaction_steps, episode_reward, agent.epsilon)\n",
        "                print(train_info_str)\n",
        "                log_fd.write(train_info_str)\n",
        "                break\n",
        "\n",
        "        if i_episode % save_model_per_ep == 0:\n",
        "            agent.save_model(args.save_dir)\n",
        "            print(\"[Info] Save model at '%s' !\"%args.save_dir)\n",
        "\n",
        "        if i_episode % args.eval_per_ep == 0:\n",
        "            test_env = Atari()\n",
        "            average_reward = 0\n",
        "            test_ep = 5\n",
        "\n",
        "            for t_ep in range(test_ep):\n",
        "                state = test_env.reset()\n",
        "                episode_reward = 0\n",
        "                for _ in range(10000):\n",
        "                    action = agent.evaluate_action(state)\n",
        "                    state, reward, done, _ = test_env.step(action.item())\n",
        "                    episode_reward += reward\n",
        "                average_reward += episode_reward\n",
        "            average_reward /= test_ep\n",
        "            \n",
        "            eval_info_str = \"Evaluation: True, Episode: %6d, Interaction_steps: %6d, evaluate reward: %f\"%(i_episode, agent.interaction_steps, average_reward)\n",
        "            print(eval_info_str)\n",
        "            log_fd.write(eval_info_str)\n",
        "    \n",
        "    log_fd.close()"
      ],
      "execution_count": 0,
      "outputs": []
    },
    {
      "cell_type": "code",
      "metadata": {
        "id": "wCJ8vHj8oZNK",
        "colab_type": "code",
        "colab": {}
      },
      "source": [
        "args = parser.parse_args(args=[]) #For jupyter notebook\n",
        "\n",
        "if not os.path.isfile(args.save_dir):\n",
        "    os.makedirs( args.save_dir )\n",
        "    print(\"[Info] make directory '%s'\"%args.save_dir)\n",
        "    \n",
        "train()"
      ],
      "execution_count": 0,
      "outputs": []
    },
    {
      "cell_type": "code",
      "metadata": {
        "id": "dBaPNWRNpZXk",
        "colab_type": "code",
        "colab": {}
      },
      "source": [
        "def test(path):\n",
        "    #agent = RandomAgent()\n",
        "    agent = DQN()\n",
        "    env = Atari()\n",
        "    \n",
        "    agent.restore_model(path)\n",
        "\n",
        "    for i_episode in range(10):\n",
        "        episode_reward = 0\n",
        "        state = env.reset()\n",
        "\n",
        "        for _ in range(10000):\n",
        "            #env.render()\n",
        "            action = agent.evaluate_action(state)\n",
        "            next_state, reward, done, _ = env.step(action.item())\n",
        "            state = next_state\n",
        "            episode_reward += reward\n",
        "\n",
        "            if done:\n",
        "                print(\"Episode: %6d, interaction_steps: %6d, reward: %2d, epsilon: %f\"%(i_episode, agent.interaction_steps, episode_reward, 0.1))\n",
        "                break"
      ],
      "execution_count": 0,
      "outputs": []
    },
    {
      "cell_type": "code",
      "metadata": {
        "id": "6xa3ur986KOA",
        "colab_type": "code",
        "colab": {}
      },
      "source": [
        "args = parser.parse_args(args=[]) #For jupyter notebook\n",
        "\n",
        "model_path = \"./model/q_target_checkpoint_1947648.pth\"\n",
        "test(model_path)"
      ],
      "execution_count": 0,
      "outputs": []
    },
    {
      "cell_type": "code",
      "metadata": {
        "id": "h1Flgg7R6b0u",
        "colab_type": "code",
        "outputId": "520c029a-dd4b-4b73-f972-d4aaf40d89f2",
        "colab": {
          "base_uri": "https://localhost:8080/",
          "height": 343
        }
      },
      "source": [
        "import matplotlib\n",
        "import matplotlib.pyplot as plt\n",
        "is_ipython = 'inline' in matplotlib.get_backend()\n",
        "if is_ipython:\n",
        "    from IPython import display\n",
        "\n",
        "class LearntAgent(object):\n",
        "    def __init__(self):\n",
        "        self.action_dim = 3\n",
        "        self.net = CNN(84, 84, self.action_dim).to(device)\n",
        "        self.interaction_steps = 0\n",
        "\n",
        "    def evaluate_action(self, state, rand=0.1):\n",
        "        if random.random() < rand:\n",
        "            return torch.tensor([[random.randrange(self.action_dim)]], device=device, dtype=torch.long), np.array([[0., 0., 0.,]])\n",
        "        with torch.no_grad():\n",
        "            q_value = self.net(state)\n",
        "            return q_value.max(1)[1].view(1, 1), q_value.cpu().numpy()\n",
        "\n",
        "    def restore_model(self, path):\n",
        "        self.net.load_state_dict(torch.load(path, map_location=device))\n",
        "        self.net.eval()\n",
        "        print(\"[Info] Restore model from '%s' !\"%path)\n",
        "\n",
        "\n",
        "def play(path):\n",
        "    agent = LearntAgent()\n",
        "    env = Atari()\n",
        "    \n",
        "    agent.restore_model(path)\n",
        "\n",
        "    for i_episode in range(1):\n",
        "        episode_reward = 0\n",
        "        state = env.reset()\n",
        "\n",
        "        fig = plt.figure()\n",
        "        fig.set_facecolor('w')\n",
        "        img0 = plt.imshow(env.get_render())\n",
        "        \n",
        "        for s in range(10000):\n",
        "            #env.render()\n",
        "            action, q_value = agent.evaluate_action(state)\n",
        "\n",
        "            plt.title( \"Step: %04d\\nNOPE: %f, UP: %f, DOWN: %f\\nAverage Q: %f, Action: %d\\n\"\\\n",
        "                        %(s+1, q_value[0,0], q_value[0,1], q_value[0,2], np.average(q_value), action.item()) )\n",
        "            img0.set_data(env.get_render())\n",
        "            display.display(plt.gcf())\n",
        "            display.clear_output(wait=True)\n",
        "\n",
        "            next_state, reward, done, _ = env.step(action.item())\n",
        "            state = next_state\n",
        "            episode_reward += reward\n",
        "\n",
        "            if done:\n",
        "                print(\"Episode: %6d, interaction_steps: %6d, reward: %2d, epsilon: %f\"%(i_episode, agent.interaction_steps, episode_reward, 0.1))\n",
        "                break\n",
        "\n",
        "model_path = \"./model/q_target_checkpoint_1947648.pth\"\n",
        "play(model_path)"
      ],
      "execution_count": 11,
      "outputs": [
        {
          "output_type": "stream",
          "text": [
            "Episode:      0, interaction_steps:      0, reward: 31, epsilon: 0.100000\n"
          ],
          "name": "stdout"
        },
        {
          "output_type": "display_data",
          "data": {
            "image/png": "[encoded data removed]",
            "text/plain": [
              "<Figure size 432x288 with 1 Axes>"
            ]
          },
          "metadata": {
            "tags": []
          }
        }
      ]
    },
    {
      "cell_type": "code",
      "metadata": {
        "id": "imo7hpC1_g-P",
        "colab_type": "code",
        "colab": {}
      },
      "source": [
        ""
      ],
      "execution_count": 0,
      "outputs": []
    }
  ]
}